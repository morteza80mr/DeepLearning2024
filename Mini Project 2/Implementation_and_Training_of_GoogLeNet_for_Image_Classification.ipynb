{
  "cells": [
    {
      "cell_type": "markdown",
      "metadata": {
        "id": "view-in-github",
        "colab_type": "text"
      },
      "source": [
        "<a href=\"https://colab.research.google.com/github/morteza80mr/DeepLearning2024/blob/main/Mini%20Project%202/Implementation_and_Training_of_GoogLeNet_for_Image_Classification.ipynb\" target=\"_parent\"><img src=\"https://colab.research.google.com/assets/colab-badge.svg\" alt=\"Open In Colab\"/></a>"
      ]
    },
    {
      "cell_type": "markdown",
      "source": [
        "# **GoogLeNet inceptionV1**"
      ],
      "metadata": {
        "id": "SoqaMyaVwDut"
      }
    },
    {
      "cell_type": "code",
      "source": [
        "import time\n",
        "import torch\n",
        "import torch.nn as nn\n",
        "import torch.nn.functional as F\n",
        "import torch.optim as optim\n",
        "from torch.utils.data import DataLoader, Subset\n",
        "from torchvision import datasets, transforms\n",
        "import numpy as np\n",
        "import matplotlib.pyplot as plt\n",
        "from sklearn.metrics import confusion_matrix, f1_score"
      ],
      "metadata": {
        "id": "y8fIprv6w9jD"
      },
      "execution_count": 8,
      "outputs": []
    },
    {
      "cell_type": "markdown",
      "source": [
        "**1) Define Inception Block**\n",
        "\n",
        "Inception block as in GoogLeNet (Inception v1).We add optional batch normalization after each conv."
      ],
      "metadata": {
        "id": "qGQdj0dewyaj"
      }
    },
    {
      "cell_type": "code",
      "source": [
        "class Inception(nn.Module):\n",
        "    def __init__(\n",
        "        self,\n",
        "        in_channels,\n",
        "        out_1x1,\n",
        "        red_3x3,\n",
        "        out_3x3,\n",
        "        red_5x5,\n",
        "        out_5x5,\n",
        "        out_pool,\n",
        "        extra_param=None,  # Add extra parameter if needed\n",
        "    ):\n",
        "        super(Inception, self).__init__()\n",
        "\n",
        "        # 1x1 branch\n",
        "        self.branch1 = nn.Sequential(\n",
        "            nn.Conv2d(in_channels, out_1x1, kernel_size=1, padding=0),\n",
        "            nn.BatchNorm2d(out_1x1),\n",
        "            nn.ReLU(True),\n",
        "        )\n",
        "\n",
        "        # 1x1 -> 3x3 branch\n",
        "        self.branch2 = nn.Sequential(\n",
        "            nn.Conv2d(in_channels, red_3x3, kernel_size=1),\n",
        "            nn.BatchNorm2d(red_3x3),\n",
        "            nn.ReLU(True),\n",
        "            nn.Conv2d(red_3x3, out_3x3, kernel_size=3, padding=1),\n",
        "            nn.BatchNorm2d(out_3x3),\n",
        "            nn.ReLU(True),\n",
        "        )\n",
        "\n",
        "        # 1x1 -> 5x5 branch\n",
        "        self.branch3 = nn.Sequential(\n",
        "            nn.Conv2d(in_channels, red_5x5, kernel_size=1),\n",
        "            nn.BatchNorm2d(red_5x5),\n",
        "            nn.ReLU(True),\n",
        "            nn.Conv2d(red_5x5, out_5x5, kernel_size=5, padding=2),\n",
        "            nn.BatchNorm2d(out_5x5),\n",
        "            nn.ReLU(True),\n",
        "        )\n",
        "\n",
        "        # 3x3 pool -> 1x1\n",
        "        self.branch4 = nn.Sequential(\n",
        "            nn.MaxPool2d(kernel_size=3, stride=1, padding=1),\n",
        "            nn.Conv2d(in_channels, out_pool, kernel_size=1),\n",
        "            nn.BatchNorm2d(out_pool),\n",
        "            nn.ReLU(True),\n",
        "        )\n",
        "\n",
        "    def forward(self, x):\n",
        "        b1 = self.branch1(x)\n",
        "        b2 = self.branch2(x)\n",
        "        b3 = self.branch3(x)\n",
        "        b4 = self.branch4(x)\n",
        "        return torch.cat([b1, b2, b3, b4], 1)"
      ],
      "metadata": {
        "id": "UT8pGWxzw5n0"
      },
      "execution_count": 9,
      "outputs": []
    },
    {
      "cell_type": "markdown",
      "source": [
        "**2) Define GoogLeNet-ish Model (adapted for CIFAR-10)**\n",
        "\n",
        "A simplified/modified GoogLeNet for CIFAR-10 (32x32). We start with a 3x3 conv instead of 7x7, reduce some filter sizes, and maintain the Inception structure."
      ],
      "metadata": {
        "id": "3uON230Lw_1f"
      }
    },
    {
      "cell_type": "code",
      "source": [
        "class GoogLeNetCIFAR(nn.Module):\n",
        "    def __init__(self, num_classes=10, dropout=0.4):\n",
        "        super(GoogLeNetCIFAR, self).__init__()\n",
        "\n",
        "        # Stem: using smaller conv for 32x32\n",
        "        self.conv1 = nn.Sequential(\n",
        "            nn.Conv2d(3, 64, kernel_size=3, stride=1, padding=1),\n",
        "            nn.BatchNorm2d(64),\n",
        "            nn.ReLU(True)\n",
        "        )\n",
        "\n",
        "        self.conv2 = nn.Sequential(\n",
        "            nn.Conv2d(64, 64, kernel_size=3, stride=1, padding=1),\n",
        "            nn.BatchNorm2d(64),\n",
        "            nn.ReLU(True)\n",
        "        )\n",
        "\n",
        "        self.conv3 = nn.Sequential(\n",
        "            nn.Conv2d(64, 192, kernel_size=3, stride=1, padding=1),\n",
        "            nn.BatchNorm2d(192),\n",
        "            nn.ReLU(True)\n",
        "        )\n",
        "\n",
        "        # MaxPool -> Inception(3a) -> Inception(3b) -> MaxPool\n",
        "        self.maxpool1 = nn.MaxPool2d(kernel_size=3, stride=2, padding=1)\n",
        "        self.inception_3a = Inception(192,  64,  96, 128, 16, 32,  32)\n",
        "        self.inception_3b = Inception(256, 128, 128, 192, 32, 96,  64)\n",
        "        self.maxpool2 = nn.MaxPool2d(kernel_size=3, stride=2, padding=1)\n",
        "\n",
        "        # Inception(4a) -> Inception(4b) -> Inception(4c) -> Inception(4d) -> Inception(4e) -> MaxPool\n",
        "        self.inception_4a = Inception(480, 192,  96, 208, 16,  48,  64)\n",
        "        self.inception_4b = Inception(512, 160, 112, 224, 24,  64,  64)\n",
        "        self.inception_4c = Inception(512, 128, 128, 256, 24,  64,  64)\n",
        "        self.inception_4d = Inception(512, 112, 144, 288, 32,  64,  64)\n",
        "        self.inception_4e = Inception(528, 256, 160, 320, 32, 128, 128)\n",
        "        self.maxpool3 = nn.MaxPool2d(kernel_size=3, stride=2, padding=1)\n",
        "\n",
        "        # Inception(5a) -> Inception(5b) -> Average Pool\n",
        "        self.inception_5a = Inception(832, 256, 160, 320, 32, 128, 128)\n",
        "        self.inception_5b = Inception(832, 384, 192, 384, 48, 128, 128)\n",
        "\n",
        "        # Global Average Pool -> Dropout -> Linear\n",
        "        self.avgpool = nn.AdaptiveAvgPool2d((1, 1))\n",
        "        self.dropout = nn.Dropout(p=dropout)\n",
        "        self.linear = nn.Linear(1024, num_classes)\n",
        "\n",
        "    def forward(self, x):\n",
        "        # Stem\n",
        "        x = self.conv1(x)    # => [B,64,32,32]\n",
        "        x = self.conv2(x)    # => [B,64,32,32]\n",
        "        x = self.conv3(x)    # => [B,192,32,32]\n",
        "\n",
        "        # Inception 3\n",
        "        x = self.maxpool1(x) # => [B,192,16,16]\n",
        "        x = self.inception_3a(x) # => [B,256,16,16]\n",
        "        x = self.inception_3b(x) # => [B,480,16,16]\n",
        "        x = self.maxpool2(x) # => [B,480,8,8]\n",
        "\n",
        "        # Inception 4\n",
        "        x = self.inception_4a(x) # => [B,512,8,8]\n",
        "        x = self.inception_4b(x) # => [B,512,8,8]\n",
        "        x = self.inception_4c(x) # => [B,512,8,8]\n",
        "        x = self.inception_4d(x) # => [B,528,8,8]\n",
        "        x = self.inception_4e(x) # => [B,832,8,8]\n",
        "        x = self.maxpool3(x)     # => [B,832,4,4]\n",
        "\n",
        "        # Inception 5\n",
        "        x = self.inception_5a(x) # => [B,832,4,4]\n",
        "        x = self.inception_5b(x) # => [B,1024,4,4]\n",
        "\n",
        "        # Global AvgPool -> FC\n",
        "        x = self.avgpool(x)      # => [B,1024,1,1]\n",
        "        x = torch.flatten(x, 1)  # => [B,1024]\n",
        "        x = self.dropout(x)\n",
        "        x = self.linear(x)       # => [B,num_classes]\n",
        "        return x"
      ],
      "metadata": {
        "id": "v_pkfV56xOMt"
      },
      "execution_count": 10,
      "outputs": []
    },
    {
      "cell_type": "markdown",
      "source": [
        "**3) Weight Initialization (Xavier)**"
      ],
      "metadata": {
        "id": "ku5dAN0rx2lb"
      }
    },
    {
      "cell_type": "code",
      "source": [
        "def xavier_init_weights(model):\n",
        "    for m in model.modules():\n",
        "        if isinstance(m, nn.Conv2d):\n",
        "            nn.init.xavier_uniform_(m.weight)\n",
        "            if m.bias is not None:\n",
        "                nn.init.constant_(m.bias, 0.0)\n",
        "        elif isinstance(m, nn.Linear):\n",
        "            nn.init.xavier_uniform_(m.weight)\n",
        "            if m.bias is not None:\n",
        "                nn.init.constant_(m.bias, 0.0)"
      ],
      "metadata": {
        "id": "FosMtfXhyDjr"
      },
      "execution_count": 11,
      "outputs": []
    },
    {
      "cell_type": "markdown",
      "source": [
        "**4) Data Preparation: use only 20,000 TRAIN images**"
      ],
      "metadata": {
        "id": "zAAsuA9kx_xi"
      }
    },
    {
      "cell_type": "code",
      "source": [
        "transform_train = transforms.Compose([\n",
        "    transforms.RandomCrop(32, padding=4),\n",
        "    transforms.RandomHorizontalFlip(),\n",
        "    transforms.ToTensor(),\n",
        "    transforms.Normalize((0.4914, 0.4822, 0.4465),\n",
        "                         (0.2023, 0.1994, 0.2010)),\n",
        "])\n",
        "\n",
        "transform_test = transforms.Compose([\n",
        "    transforms.ToTensor(),\n",
        "    transforms.Normalize((0.4914, 0.4822, 0.4465),\n",
        "                         (0.2023, 0.1994, 0.2010)),\n",
        "])\n",
        "\n",
        "full_train_dataset = datasets.CIFAR10(\n",
        "    root='./data',\n",
        "    train=True,\n",
        "    download=True,\n",
        "    transform=transform_train\n",
        ")\n",
        "\n",
        "# Randomly pick 20,000 indices out of the total 50,000\n",
        "indices = torch.randperm(len(full_train_dataset))[:20000]\n",
        "train_subset = Subset(full_train_dataset, indices)\n",
        "\n",
        "train_loader = DataLoader(train_subset, batch_size=128, shuffle=True, num_workers=2)\n",
        "\n",
        "# Test dataset remains the full CIFAR-10 test set\n",
        "test_dataset = datasets.CIFAR10(\n",
        "    root='./data',\n",
        "    train=False,\n",
        "    download=True,\n",
        "    transform=transform_test\n",
        ")\n",
        "test_loader = DataLoader(test_dataset, batch_size=128, shuffle=False, num_workers=2)"
      ],
      "metadata": {
        "colab": {
          "base_uri": "https://localhost:8080/"
        },
        "id": "_sQf8FFyyQFj",
        "outputId": "567c7e5f-5307-477c-b6ab-1b0f6b3c2623"
      },
      "execution_count": 12,
      "outputs": [
        {
          "output_type": "stream",
          "name": "stdout",
          "text": [
            "Files already downloaded and verified\n",
            "Files already downloaded and verified\n"
          ]
        }
      ]
    },
    {
      "cell_type": "markdown",
      "source": [
        "**5) Instantiate Model, Optimizer, Criterion**"
      ],
      "metadata": {
        "id": "LIfkt1x4yR5k"
      }
    },
    {
      "cell_type": "code",
      "source": [
        "device = torch.device('cuda' if torch.cuda.is_available() else 'cpu')\n",
        "model = GoogLeNetCIFAR(num_classes=10, dropout=0.4).to(device)\n",
        "\n",
        "# Weight initialization\n",
        "xavier_init_weights(model)\n",
        "\n",
        "# Adam with LR=0.001 and weight decay for L2 regularization\n",
        "optimizer = optim.Adam(model.parameters(), lr=0.001, weight_decay=1e-4)\n",
        "criterion = nn.CrossEntropyLoss()"
      ],
      "metadata": {
        "id": "i8cYJi9WycSa"
      },
      "execution_count": 13,
      "outputs": []
    },
    {
      "cell_type": "markdown",
      "source": [
        "**6) Training & Validation Loops (with epoch duration)**"
      ],
      "metadata": {
        "id": "jCMYyb4aygQb"
      }
    },
    {
      "cell_type": "code",
      "source": [
        "EPOCHS = 20\n",
        "\n",
        "train_losses = []\n",
        "test_losses = []\n",
        "train_accs = []\n",
        "test_accs = []\n",
        "\n",
        "for epoch in range(EPOCHS):\n",
        "    start_time = time.time()  # measure epoch start\n",
        "\n",
        "    # ------------- TRAIN -------------\n",
        "    model.train()\n",
        "    running_loss = 0.0\n",
        "    correct = 0\n",
        "    total = 0\n",
        "\n",
        "    for images, labels in train_loader:\n",
        "        images = images.to(device)\n",
        "        labels = labels.to(device)\n",
        "\n",
        "        optimizer.zero_grad()\n",
        "        outputs = model(images)\n",
        "        loss = criterion(outputs, labels)\n",
        "        loss.backward()\n",
        "        optimizer.step()\n",
        "\n",
        "        running_loss += loss.item() * images.size(0)\n",
        "        _, predicted = outputs.max(1)\n",
        "        correct += predicted.eq(labels).sum().item()\n",
        "        total += labels.size(0)\n",
        "\n",
        "    epoch_loss = running_loss / total\n",
        "    epoch_acc = 100.0 * correct / total\n",
        "    train_losses.append(epoch_loss)\n",
        "    train_accs.append(epoch_acc)\n",
        "\n",
        "    # ------------- VALIDATION -------------\n",
        "    model.eval()\n",
        "    test_running_loss = 0.0\n",
        "    correct_test = 0\n",
        "    total_test = 0\n",
        "\n",
        "    with torch.no_grad():\n",
        "        for images, labels in test_loader:\n",
        "            images = images.to(device)\n",
        "            labels = labels.to(device)\n",
        "\n",
        "            outputs = model(images)\n",
        "            loss = criterion(outputs, labels)\n",
        "\n",
        "            test_running_loss += loss.item() * images.size(0)\n",
        "            _, predicted = outputs.max(1)\n",
        "            correct_test += predicted.eq(labels).sum().item()\n",
        "            total_test += labels.size(0)\n",
        "\n",
        "    test_epoch_loss = test_running_loss / total_test\n",
        "    test_epoch_acc = 100.0 * correct_test / total_test\n",
        "    test_losses.append(test_epoch_loss)\n",
        "    test_accs.append(test_epoch_acc)\n",
        "\n",
        "    epoch_time = time.time() - start_time  # measure epoch end\n",
        "\n",
        "    print(f\"Epoch [{epoch+1}/{EPOCHS}] | Duration: {epoch_time:.2f}s\\n\"\n",
        "          f\"  Train Loss: {epoch_loss:.4f}, Train Acc: {epoch_acc:.2f}%\\n\"\n",
        "          f\"  Test  Loss: {test_epoch_loss:.4f}, Test  Acc: {test_epoch_acc:.2f}%\\n\")"
      ],
      "metadata": {
        "colab": {
          "base_uri": "https://localhost:8080/"
        },
        "id": "1-5lp3LdypZr",
        "outputId": "d41918b5-cfc4-404d-d8bd-d4c3d231b321"
      },
      "execution_count": 14,
      "outputs": [
        {
          "output_type": "stream",
          "name": "stdout",
          "text": [
            "Epoch [1/20] | Duration: 29.36s\n",
            "  Train Loss: 1.7332, Train Acc: 38.98%\n",
            "  Test  Loss: 1.3701, Test  Acc: 50.46%\n",
            "\n",
            "Epoch [2/20] | Duration: 27.79s\n",
            "  Train Loss: 1.2819, Train Acc: 54.27%\n",
            "  Test  Loss: 1.2826, Test  Acc: 55.11%\n",
            "\n",
            "Epoch [3/20] | Duration: 28.56s\n",
            "  Train Loss: 1.0065, Train Acc: 64.67%\n",
            "  Test  Loss: 1.2264, Test  Acc: 61.11%\n",
            "\n",
            "Epoch [4/20] | Duration: 28.84s\n",
            "  Train Loss: 0.8392, Train Acc: 71.03%\n",
            "  Test  Loss: 1.0224, Test  Acc: 66.83%\n",
            "\n",
            "Epoch [5/20] | Duration: 28.98s\n",
            "  Train Loss: 0.6951, Train Acc: 76.14%\n",
            "  Test  Loss: 0.8526, Test  Acc: 72.05%\n",
            "\n",
            "Epoch [6/20] | Duration: 29.49s\n",
            "  Train Loss: 0.6386, Train Acc: 78.46%\n",
            "  Test  Loss: 0.8044, Test  Acc: 73.07%\n",
            "\n",
            "Epoch [7/20] | Duration: 29.04s\n",
            "  Train Loss: 0.5657, Train Acc: 80.64%\n",
            "  Test  Loss: 0.7399, Test  Acc: 76.23%\n",
            "\n",
            "Epoch [8/20] | Duration: 28.87s\n",
            "  Train Loss: 0.5146, Train Acc: 82.53%\n",
            "  Test  Loss: 0.5833, Test  Acc: 80.38%\n",
            "\n",
            "Epoch [9/20] | Duration: 28.59s\n",
            "  Train Loss: 0.4577, Train Acc: 84.60%\n",
            "  Test  Loss: 1.0244, Test  Acc: 69.48%\n",
            "\n",
            "Epoch [10/20] | Duration: 28.65s\n",
            "  Train Loss: 0.4336, Train Acc: 85.56%\n",
            "  Test  Loss: 0.8500, Test  Acc: 74.41%\n",
            "\n",
            "Epoch [11/20] | Duration: 28.58s\n",
            "  Train Loss: 0.3878, Train Acc: 86.74%\n",
            "  Test  Loss: 0.6156, Test  Acc: 79.84%\n",
            "\n",
            "Epoch [12/20] | Duration: 28.66s\n",
            "  Train Loss: 0.3812, Train Acc: 87.09%\n",
            "  Test  Loss: 0.5450, Test  Acc: 81.94%\n",
            "\n",
            "Epoch [13/20] | Duration: 28.48s\n",
            "  Train Loss: 0.3529, Train Acc: 88.09%\n",
            "  Test  Loss: 0.5700, Test  Acc: 81.65%\n",
            "\n",
            "Epoch [14/20] | Duration: 29.40s\n",
            "  Train Loss: 0.3349, Train Acc: 88.42%\n",
            "  Test  Loss: 0.7907, Test  Acc: 76.66%\n",
            "\n",
            "Epoch [15/20] | Duration: 29.79s\n",
            "  Train Loss: 0.3162, Train Acc: 89.38%\n",
            "  Test  Loss: 0.5943, Test  Acc: 81.34%\n",
            "\n",
            "Epoch [16/20] | Duration: 28.68s\n",
            "  Train Loss: 0.2867, Train Acc: 90.42%\n",
            "  Test  Loss: 0.6174, Test  Acc: 80.73%\n",
            "\n",
            "Epoch [17/20] | Duration: 28.71s\n",
            "  Train Loss: 0.2776, Train Acc: 90.38%\n",
            "  Test  Loss: 0.6528, Test  Acc: 79.87%\n",
            "\n",
            "Epoch [18/20] | Duration: 28.76s\n",
            "  Train Loss: 0.2493, Train Acc: 91.50%\n",
            "  Test  Loss: 0.5491, Test  Acc: 83.06%\n",
            "\n",
            "Epoch [19/20] | Duration: 28.58s\n",
            "  Train Loss: 0.2487, Train Acc: 91.41%\n",
            "  Test  Loss: 0.8084, Test  Acc: 77.87%\n",
            "\n",
            "Epoch [20/20] | Duration: 28.58s\n",
            "  Train Loss: 0.2425, Train Acc: 91.57%\n",
            "  Test  Loss: 0.5564, Test  Acc: 82.93%\n",
            "\n"
          ]
        }
      ]
    },
    {
      "cell_type": "markdown",
      "source": [
        "**7) Final Evaluation: Confusion Matrix, F1 Score**"
      ],
      "metadata": {
        "id": "LU_3Vvd4yqvj"
      }
    },
    {
      "cell_type": "code",
      "source": [
        "model.eval()\n",
        "all_preds = []\n",
        "all_targets = []\n",
        "\n",
        "with torch.no_grad():\n",
        "    for images, labels in test_loader:\n",
        "        images = images.to(device)\n",
        "        labels = labels.to(device)\n",
        "        outputs = model(images)\n",
        "        _, predicted = outputs.max(1)\n",
        "\n",
        "        all_preds.extend(predicted.cpu().numpy())\n",
        "        all_targets.extend(labels.cpu().numpy())\n",
        "\n",
        "# Compute confusion matrix, F1 (weighted), final accuracy\n",
        "cm = confusion_matrix(all_targets, all_preds)\n",
        "f1 = f1_score(all_targets, all_preds, average='weighted')\n",
        "accuracy = 100.0 * (cm.trace() / cm.sum())\n",
        "\n",
        "print(\"\\nFinal Test Accuracy: {:.2f}%\".format(accuracy))\n",
        "print(\"Final F1 Score (weighted): {:.4f}\".format(f1))\n",
        "print(\"Confusion Matrix:\\n\", cm)"
      ],
      "metadata": {
        "colab": {
          "base_uri": "https://localhost:8080/"
        },
        "id": "GSRjznkVyz0T",
        "outputId": "4f80c2dc-d639-4633-e34f-ca225b567d9b"
      },
      "execution_count": 15,
      "outputs": [
        {
          "output_type": "stream",
          "name": "stdout",
          "text": [
            "\n",
            "Final Test Accuracy: 82.93%\n",
            "Final F1 Score (weighted): 0.8302\n",
            "Confusion Matrix:\n",
            " [[807   8  27  25  36   4  11  14  56  12]\n",
            " [ 10 925   3   7   3   4   3   7  11  27]\n",
            " [ 27   0 687  49 114  67  44   9   3   0]\n",
            " [  6   1  21 642  47 221  38  16   5   3]\n",
            " [  0   0  11  24 884  57   9  15   0   0]\n",
            " [  2   0  15  55  25 883   8  11   1   0]\n",
            " [  3   1  15  26  39  28 885   0   1   2]\n",
            " [  3   0   3  22  44 100   1 824   1   2]\n",
            " [ 23   9   5  11   7   5   1   9 907  23]\n",
            " [ 19  57   3  15   6  17   2  22  10 849]]\n"
          ]
        }
      ]
    },
    {
      "cell_type": "markdown",
      "source": [
        "**8) Plot the Loss Curves**"
      ],
      "metadata": {
        "id": "RyOpgTTfyxM6"
      }
    },
    {
      "cell_type": "code",
      "execution_count": 16,
      "metadata": {
        "colab": {
          "base_uri": "https://localhost:8080/",
          "height": 507
        },
        "id": "3jxDxq29cJA7",
        "outputId": "3b1a6c79-d983-4a6b-835b-94cfa5ddd1d7"
      },
      "outputs": [
        {
          "output_type": "display_data",
          "data": {
            "text/plain": [
              "<Figure size 1200x500 with 2 Axes>"
            ],
            "image/png": "[encoded data removed]"
          },
          "metadata": {}
        }
      ],
      "source": [
        "plt.figure(figsize=(12,5))\n",
        "plt.subplot(1,2,1)\n",
        "plt.plot(range(EPOCHS), train_losses, label='Train Loss')\n",
        "plt.plot(range(EPOCHS), test_losses, label='Test Loss')\n",
        "plt.xlabel('Epoch')\n",
        "plt.ylabel('Loss')\n",
        "plt.title('Training & Testing Loss')\n",
        "plt.legend()\n",
        "\n",
        "plt.subplot(1,2,2)\n",
        "plt.plot(range(EPOCHS), train_accs, label='Train Accuracy')\n",
        "plt.plot(range(EPOCHS), test_accs, label='Test Accuracy')\n",
        "plt.xlabel('Epoch')\n",
        "plt.ylabel('Accuracy (%)')\n",
        "plt.title('Training & Testing Accuracy')\n",
        "plt.legend()\n",
        "\n",
        "plt.tight_layout()\n",
        "plt.show()"
      ]
    },
    {
      "cell_type": "markdown",
      "source": [
        "# **GoogLeNet inceptionV2**"
      ],
      "metadata": {
        "id": "xPOH9CVLy9l0"
      }
    },
    {
      "cell_type": "code",
      "source": [
        "import time\n",
        "import torch\n",
        "import torch.nn as nn\n",
        "import torch.optim as optim\n",
        "from torch.utils.data import DataLoader, Subset\n",
        "from torchvision import datasets, transforms\n",
        "import numpy as np\n",
        "import matplotlib.pyplot as plt\n",
        "from sklearn.metrics import confusion_matrix, f1_score"
      ],
      "metadata": {
        "id": "rVNGv5zCzFrj"
      },
      "execution_count": 17,
      "outputs": []
    },
    {
      "cell_type": "markdown",
      "source": [
        "**1) Define the Factorized Inception Block**"
      ],
      "metadata": {
        "id": "PeupNL22zGjS"
      }
    },
    {
      "cell_type": "markdown",
      "source": [
        "    Inception block with factorized convolutions:\n",
        "     - 1x1\n",
        "     - 1x1 -> 1x5 -> 5x1\n",
        "     - 1x1 -> 1x3 -> 3x1\n",
        "     - 3x3 MaxPool -> 1x1\n",
        "    Then concat all branches."
      ],
      "metadata": {
        "id": "IzLpfnVpzP7L"
      }
    },
    {
      "cell_type": "code",
      "source": [
        "class InceptionFactorized(nn.Module):\n",
        "    def __init__(self, in_channels, out_1x1,\n",
        "                 red_5x5, out_5x5,\n",
        "                 red_3x3, out_3x3,\n",
        "                 pool_proj):\n",
        "        \"\"\"\n",
        "        Args:\n",
        "          in_channels: number of channels entering the block\n",
        "          out_1x1: #channels for the pure 1x1 branch\n",
        "          red_5x5: #channels in the reduce-5x5 branch (1x1 reduce)\n",
        "          out_5x5: #channels out of the (1x5 + 5x1) stack\n",
        "          red_3x3: #channels in the reduce-3x3 branch\n",
        "          out_3x3: #channels out of the (1x3 + 3x1) stack\n",
        "          pool_proj: #channels in the 1x1 after pooling\n",
        "        \"\"\"\n",
        "        super(InceptionFactorized, self).__init__()\n",
        "\n",
        "        # Branch 1: 1x1\n",
        "        self.branch1 = nn.Sequential(\n",
        "            nn.Conv2d(in_channels, out_1x1, kernel_size=1),\n",
        "            nn.BatchNorm2d(out_1x1),\n",
        "            nn.ReLU(True)\n",
        "        )\n",
        "\n",
        "        # Branch 2: 1x1 -> 1x5 -> 5x1\n",
        "        self.branch2 = nn.Sequential(\n",
        "            nn.Conv2d(in_channels, red_5x5, kernel_size=1),\n",
        "            nn.BatchNorm2d(red_5x5),\n",
        "            nn.ReLU(True),\n",
        "            nn.Conv2d(red_5x5, red_5x5, kernel_size=(1,5), padding=(0,2)),\n",
        "            nn.BatchNorm2d(red_5x5),\n",
        "            nn.ReLU(True),\n",
        "            nn.Conv2d(red_5x5, out_5x5, kernel_size=(5,1), padding=(2,0)),\n",
        "            nn.BatchNorm2d(out_5x5),\n",
        "            nn.ReLU(True)\n",
        "        )\n",
        "\n",
        "        # Branch 3: 1x1 -> 1x3 -> 3x1\n",
        "        self.branch3 = nn.Sequential(\n",
        "            nn.Conv2d(in_channels, red_3x3, kernel_size=1),\n",
        "            nn.BatchNorm2d(red_3x3),\n",
        "            nn.ReLU(True),\n",
        "            nn.Conv2d(red_3x3, red_3x3, kernel_size=(1,3), padding=(0,1)),\n",
        "            nn.BatchNorm2d(red_3x3),\n",
        "            nn.ReLU(True),\n",
        "            nn.Conv2d(red_3x3, out_3x3, kernel_size=(3,1), padding=(1,0)),\n",
        "            nn.BatchNorm2d(out_3x3),\n",
        "            nn.ReLU(True)\n",
        "        )\n",
        "\n",
        "        # Branch 4: 3x3 MaxPool -> 1x1\n",
        "        self.branch4 = nn.Sequential(\n",
        "            nn.MaxPool2d(kernel_size=3, stride=1, padding=1),\n",
        "            nn.Conv2d(in_channels, pool_proj, kernel_size=1),\n",
        "            nn.BatchNorm2d(pool_proj),\n",
        "            nn.ReLU(True)\n",
        "        )\n",
        "\n",
        "    def forward(self, x):\n",
        "        b1 = self.branch1(x)\n",
        "        b2 = self.branch2(x)\n",
        "        b3 = self.branch3(x)\n",
        "        b4 = self.branch4(x)\n",
        "        return torch.cat([b1, b2, b3, b4], 1)"
      ],
      "metadata": {
        "id": "F3joXYkFza_M"
      },
      "execution_count": 18,
      "outputs": []
    },
    {
      "cell_type": "markdown",
      "source": [
        "**2) Example Network Using the Custom Inception Block**\n",
        "\n",
        "(A very simplified \"GoogLeNet-like\" architecture)"
      ],
      "metadata": {
        "id": "P7P09HVuzc3b"
      }
    },
    {
      "cell_type": "code",
      "source": [
        "class MiniGoogLeNetFactorized(nn.Module):\n",
        "    def __init__(self, num_classes=10):\n",
        "        super(MiniGoogLeNetFactorized, self).__init__()\n",
        "        self.conv1 = nn.Sequential(\n",
        "            nn.Conv2d(3, 64, kernel_size=3, padding=1),\n",
        "            nn.BatchNorm2d(64),\n",
        "            nn.ReLU(True)\n",
        "        )\n",
        "        # Just one or two InceptionFactorized blocks for demo\n",
        "        self.inception1 = InceptionFactorized(\n",
        "            in_channels=64,\n",
        "            out_1x1=16,    # example\n",
        "            red_5x5=16, out_5x5=16,\n",
        "            red_3x3=16, out_3x3=16,\n",
        "            pool_proj=16\n",
        "        )\n",
        "        self.inception2 = InceptionFactorized(\n",
        "            in_channels=16+16+16+16,  # =64\n",
        "            out_1x1=32,\n",
        "            red_5x5=32, out_5x5=32,\n",
        "            red_3x3=32, out_3x3=32,\n",
        "            pool_proj=32\n",
        "        )\n",
        "\n",
        "        self.global_pool = nn.AdaptiveAvgPool2d((1,1))\n",
        "        self.linear = nn.Linear(32+32+32+32, num_classes)\n",
        "\n",
        "    def forward(self, x):\n",
        "        x = self.conv1(x)           # => [B,64,H,W]\n",
        "        x = self.inception1(x)      # => [B,64,H,W]\n",
        "        x = self.inception2(x)      # => [B,128?, etc... Actually 32+32+32+32=128]\n",
        "        x = self.global_pool(x)     # => [B,128,1,1]\n",
        "        x = torch.flatten(x, 1)     # => [B,128]\n",
        "        x = self.linear(x)          # => [B,10]\n",
        "        return x"
      ],
      "metadata": {
        "id": "DecHxAH1zkky"
      },
      "execution_count": 19,
      "outputs": []
    },
    {
      "cell_type": "markdown",
      "source": [
        "**3) Prepare CIFAR-10, but only 20,000 samples for training**"
      ],
      "metadata": {
        "id": "1W-TuEgKzmP6"
      }
    },
    {
      "cell_type": "code",
      "source": [
        "transform = transforms.Compose([\n",
        "    transforms.RandomCrop(32, padding=4),\n",
        "    transforms.RandomHorizontalFlip(),\n",
        "    transforms.ToTensor(),\n",
        "    transforms.Normalize((0.4914, 0.4822, 0.4465),\n",
        "                         (0.2023, 0.1994, 0.2010))\n",
        "])\n",
        "\n",
        "train_full = datasets.CIFAR10(root='./data', train=True, download=True, transform=transform)\n",
        "test_dataset = datasets.CIFAR10(root='./data', train=False, download=True, transform=transform)\n",
        "\n",
        "# Restrict train set to 20,000 samples\n",
        "indices = torch.randperm(len(train_full))[:20000]\n",
        "train_subset = Subset(train_full, indices)\n",
        "\n",
        "train_loader = DataLoader(train_subset, batch_size=128, shuffle=True, num_workers=2)\n",
        "test_loader  = DataLoader(test_dataset,  batch_size=128, shuffle=False, num_workers=2)"
      ],
      "metadata": {
        "colab": {
          "base_uri": "https://localhost:8080/"
        },
        "id": "nIdGTq9XzvHs",
        "outputId": "c9f382cc-8182-43be-cac5-db985f16a7bd"
      },
      "execution_count": 20,
      "outputs": [
        {
          "output_type": "stream",
          "name": "stdout",
          "text": [
            "Files already downloaded and verified\n",
            "Files already downloaded and verified\n"
          ]
        }
      ]
    },
    {
      "cell_type": "markdown",
      "source": [
        "**4) Instantiate Model + Train**"
      ],
      "metadata": {
        "id": "kiWRlBHYzwBb"
      }
    },
    {
      "cell_type": "code",
      "execution_count": 21,
      "metadata": {
        "id": "mNOTE198AZnj",
        "colab": {
          "base_uri": "https://localhost:8080/"
        },
        "outputId": "5788f23b-712b-482e-e197-980df4bd3271"
      },
      "outputs": [
        {
          "output_type": "stream",
          "name": "stdout",
          "text": [
            "Epoch 1/20 [17.2s]: Train Loss 1.820, Train Acc 32.92% | Test Loss 1.655, Test Acc 37.39%\n",
            "Epoch 2/20 [17.6s]: Train Loss 1.522, Train Acc 44.97% | Test Loss 1.460, Test Acc 46.81%\n",
            "Epoch 3/20 [16.8s]: Train Loss 1.378, Train Acc 50.38% | Test Loss 1.369, Test Acc 49.62%\n",
            "Epoch 4/20 [16.7s]: Train Loss 1.287, Train Acc 53.94% | Test Loss 1.271, Test Acc 54.73%\n",
            "Epoch 5/20 [15.9s]: Train Loss 1.232, Train Acc 56.39% | Test Loss 1.231, Test Acc 56.12%\n",
            "Epoch 6/20 [16.5s]: Train Loss 1.162, Train Acc 58.88% | Test Loss 1.234, Test Acc 55.70%\n",
            "Epoch 7/20 [16.6s]: Train Loss 1.129, Train Acc 60.03% | Test Loss 1.173, Test Acc 57.95%\n",
            "Epoch 8/20 [16.8s]: Train Loss 1.096, Train Acc 61.31% | Test Loss 1.115, Test Acc 60.20%\n",
            "Epoch 9/20 [16.6s]: Train Loss 1.058, Train Acc 62.55% | Test Loss 1.088, Test Acc 60.90%\n",
            "Epoch 10/20 [16.8s]: Train Loss 1.036, Train Acc 63.65% | Test Loss 1.159, Test Acc 57.64%\n",
            "Epoch 11/20 [16.8s]: Train Loss 0.998, Train Acc 65.05% | Test Loss 1.045, Test Acc 62.82%\n",
            "Epoch 12/20 [16.7s]: Train Loss 0.985, Train Acc 65.31% | Test Loss 1.096, Test Acc 60.89%\n",
            "Epoch 13/20 [16.8s]: Train Loss 0.969, Train Acc 65.67% | Test Loss 1.147, Test Acc 59.47%\n",
            "Epoch 14/20 [17.0s]: Train Loss 0.946, Train Acc 66.58% | Test Loss 1.121, Test Acc 59.67%\n",
            "Epoch 15/20 [17.3s]: Train Loss 0.929, Train Acc 67.16% | Test Loss 1.094, Test Acc 62.01%\n",
            "Epoch 16/20 [17.0s]: Train Loss 0.904, Train Acc 68.36% | Test Loss 1.009, Test Acc 63.94%\n",
            "Epoch 17/20 [17.4s]: Train Loss 0.896, Train Acc 68.67% | Test Loss 1.182, Test Acc 59.62%\n",
            "Epoch 18/20 [16.7s]: Train Loss 0.874, Train Acc 69.24% | Test Loss 1.012, Test Acc 63.90%\n",
            "Epoch 19/20 [16.6s]: Train Loss 0.863, Train Acc 69.91% | Test Loss 0.950, Test Acc 66.06%\n",
            "Epoch 20/20 [16.0s]: Train Loss 0.854, Train Acc 69.69% | Test Loss 0.918, Test Acc 67.57%\n"
          ]
        }
      ],
      "source": [
        "device = torch.device('cuda' if torch.cuda.is_available() else 'cpu')\n",
        "model = MiniGoogLeNetFactorized().to(device)\n",
        "\n",
        "optimizer = optim.Adam(model.parameters(), lr=0.001, weight_decay=1e-4)\n",
        "criterion = nn.CrossEntropyLoss()\n",
        "\n",
        "EPOCHS = 20\n",
        "\n",
        "train_losses, test_losses = [], []\n",
        "train_accs, test_accs = [], []\n",
        "\n",
        "for epoch in range(EPOCHS):\n",
        "    start = time.time()\n",
        "\n",
        "    # Training\n",
        "    model.train()\n",
        "    running_loss, correct, total = 0.0, 0, 0\n",
        "    for images, labels in train_loader:\n",
        "        images, labels = images.to(device), labels.to(device)\n",
        "\n",
        "        optimizer.zero_grad()\n",
        "        outputs = model(images)\n",
        "        loss = criterion(outputs, labels)\n",
        "        loss.backward()\n",
        "        optimizer.step()\n",
        "\n",
        "        running_loss += loss.item() * images.size(0)\n",
        "        _, preds = outputs.max(1)\n",
        "        correct += preds.eq(labels).sum().item()\n",
        "        total += labels.size(0)\n",
        "    train_losses.append(running_loss / total)\n",
        "    train_accs.append(100.0 * correct / total)\n",
        "\n",
        "    # Validation\n",
        "    model.eval()\n",
        "    test_loss, correct_t, total_t = 0.0, 0, 0\n",
        "    with torch.no_grad():\n",
        "        for images, labels in test_loader:\n",
        "            images, labels = images.to(device), labels.to(device)\n",
        "            out = model(images)\n",
        "            l = criterion(out, labels)\n",
        "            test_loss += l.item() * images.size(0)\n",
        "            _, preds = out.max(1)\n",
        "            correct_t += preds.eq(labels).sum().item()\n",
        "            total_t += labels.size(0)\n",
        "    test_losses.append(test_loss / total_t)\n",
        "    test_accs.append(100.0 * correct_t / total_t)\n",
        "\n",
        "    elapsed = time.time() - start\n",
        "    print(f\"Epoch {epoch+1}/{EPOCHS} [{elapsed:.1f}s]: \"\n",
        "          f\"Train Loss {train_losses[-1]:.3f}, Train Acc {train_accs[-1]:.2f}% | \"\n",
        "          f\"Test Loss {test_losses[-1]:.3f}, Test Acc {test_accs[-1]:.2f}%\")"
      ]
    },
    {
      "cell_type": "markdown",
      "source": [
        "**Final evaluation**"
      ],
      "metadata": {
        "id": "CsyEM9yg0CwD"
      }
    },
    {
      "cell_type": "code",
      "source": [
        "model.eval()\n",
        "all_preds, all_labels = [], []\n",
        "with torch.no_grad():\n",
        "    for images, labels in test_loader:\n",
        "        images, labels = images.to(device), labels.to(device)\n",
        "        logits = model(images)\n",
        "        _, preds = logits.max(1)\n",
        "        all_preds.extend(preds.cpu().numpy())\n",
        "        all_labels.extend(labels.cpu().numpy())\n",
        "\n",
        "cm = confusion_matrix(all_labels, all_preds)\n",
        "f1 = f1_score(all_labels, all_preds, average='weighted')\n",
        "acc = 100.0 * cm.trace() / cm.sum()\n",
        "\n",
        "print(f\"\\nFinal Test Accuracy: {acc:.2f}%\")\n",
        "print(f\"F1 Score (weighted): {f1:.4f}\")\n",
        "print(\"Confusion Matrix:\\n\", cm)"
      ],
      "metadata": {
        "colab": {
          "base_uri": "https://localhost:8080/"
        },
        "id": "UbZZygrTz_-V",
        "outputId": "d8497309-2ed9-45d0-d7a8-d013ab088a68"
      },
      "execution_count": 22,
      "outputs": [
        {
          "output_type": "stream",
          "name": "stdout",
          "text": [
            "\n",
            "Final Test Accuracy: 67.19%\n",
            "F1 Score (weighted): 0.6615\n",
            "Confusion Matrix:\n",
            " [[740  42  32   6  10   2  11  22 103  32]\n",
            " [ 60 797   4   1   2   1   2   9  16 108]\n",
            " [119   8 499  15 136  45  90  69  14   5]\n",
            " [ 35  30  98 272  84 244 110  80  27  20]\n",
            " [ 22   7  68  17 640  32  78 105  22   9]\n",
            " [ 25   8  54  79  76 585  29 118  16  10]\n",
            " [ 18   3  55  38  53  23 786  14   4   6]\n",
            " [ 27   6  32  12  93  52   8 746   4  20]\n",
            " [ 78  29   8   3   9   1   6   6 833  27]\n",
            " [ 33  77   3   3   8   0   5  17  33 821]]\n"
          ]
        }
      ]
    },
    {
      "cell_type": "markdown",
      "source": [
        "Plotting the curves"
      ],
      "metadata": {
        "id": "e4bCgVLn0Hpz"
      }
    },
    {
      "cell_type": "code",
      "source": [
        "plt.figure(figsize=(12,4))\n",
        "plt.subplot(1,2,1)\n",
        "plt.plot(train_losses, label='Train Loss')\n",
        "plt.plot(test_losses, label='Test Loss')\n",
        "plt.xlabel('Epoch'); plt.ylabel('Loss')\n",
        "plt.title('Loss Curves'); plt.legend()\n",
        "\n",
        "plt.subplot(1,2,2)\n",
        "plt.plot(train_accs, label='Train Acc')\n",
        "plt.plot(test_accs, label='Test Acc')\n",
        "plt.xlabel('Epoch'); plt.ylabel('Accuracy (%)')\n",
        "plt.title('Accuracy Curves'); plt.legend()\n",
        "\n",
        "plt.tight_layout()\n",
        "plt.show()"
      ],
      "metadata": {
        "colab": {
          "base_uri": "https://localhost:8080/",
          "height": 407
        },
        "id": "6SZUqcS-0KLc",
        "outputId": "bb29e87e-4d86-4cb2-d05f-26d147cdea17"
      },
      "execution_count": 23,
      "outputs": [
        {
          "output_type": "display_data",
          "data": {
            "text/plain": [
              "<Figure size 1200x400 with 2 Axes>"
            ],
            "image/png": "[encoded data removed]"
          },
          "metadata": {}
        }
      ]
    },
    {
      "cell_type": "markdown",
      "source": [
        "# **GoogLeNet inceptionV3**"
      ],
      "metadata": {
        "id": "HJCF6TY00S6R"
      }
    },
    {
      "cell_type": "code",
      "source": [
        "import time\n",
        "import torch\n",
        "import torch.nn as nn\n",
        "import torch.optim as optim\n",
        "from torch.utils.data import DataLoader, Subset\n",
        "from torchvision import datasets, transforms, models\n",
        "import numpy as np\n",
        "import matplotlib.pyplot as plt\n",
        "from sklearn.metrics import confusion_matrix, f1_score"
      ],
      "metadata": {
        "id": "24ilwYZa0lPa"
      },
      "execution_count": 24,
      "outputs": []
    },
    {
      "cell_type": "markdown",
      "source": [
        "**1) Data Preparation: CIFAR-10 => Resized to 299x299**\n",
        "\n",
        "(Pick Only 20k Samples from the Train Set)"
      ],
      "metadata": {
        "id": "TeXucqku0ohT"
      }
    },
    {
      "cell_type": "code",
      "source": [
        "train_transform = transforms.Compose([\n",
        "    transforms.RandomResizedCrop(299),       # Upscale from 32x32 to ~299x299\n",
        "    transforms.RandomHorizontalFlip(),\n",
        "    transforms.ToTensor(),\n",
        "    transforms.Normalize(mean=[0.4914, 0.4822, 0.4465],\n",
        "                         std=[0.2023, 0.1994, 0.2010]),\n",
        "])\n",
        "\n",
        "test_transform = transforms.Compose([\n",
        "    transforms.Resize(320),      # slightly larger\n",
        "    transforms.CenterCrop(299),  # then center-crop to 299x299\n",
        "    transforms.ToTensor(),\n",
        "    transforms.Normalize(mean=[0.4914, 0.4822, 0.4465],\n",
        "                         std=[0.2023, 0.1994, 0.2010]),\n",
        "])\n",
        "\n",
        "train_full = datasets.CIFAR10(\n",
        "    root='./data',\n",
        "    train=True,\n",
        "    download=True,\n",
        "    transform=train_transform\n",
        ")\n",
        "test_dataset = datasets.CIFAR10(\n",
        "    root='./data',\n",
        "    train=False,\n",
        "    download=True,\n",
        "    transform=test_transform\n",
        ")\n",
        "\n",
        "# Restrict train set to 20,000 samples\n",
        "indices = torch.randperm(len(train_full))[:20000]\n",
        "train_subset = Subset(train_full, indices)\n",
        "\n",
        "# Hyperparameter to tune: batch size\n",
        "BATCH_SIZE = 64\n",
        "\n",
        "train_loader = DataLoader(train_subset, batch_size=BATCH_SIZE, shuffle=True, num_workers=2)\n",
        "test_loader  = DataLoader(test_dataset,  batch_size=BATCH_SIZE, shuffle=False, num_workers=2)"
      ],
      "metadata": {
        "colab": {
          "base_uri": "https://localhost:8080/"
        },
        "id": "awOqSPKE01rk",
        "outputId": "2d72b7a5-3cc7-44a1-a44e-0e92d8444b9d"
      },
      "execution_count": 25,
      "outputs": [
        {
          "output_type": "stream",
          "name": "stdout",
          "text": [
            "Files already downloaded and verified\n",
            "Files already downloaded and verified\n"
          ]
        }
      ]
    },
    {
      "cell_type": "markdown",
      "source": [
        "**2) Load InceptionV3 and Adjust for CIFAR-10**"
      ],
      "metadata": {
        "id": "EgcRhega02Xj"
      }
    },
    {
      "cell_type": "code",
      "source": [
        "# If you want the model weights, you could do pretrained=True to fine-tune.\n",
        "# model = models.inception_v3(pretrained=False, aux_logits=True)\n",
        "# For a pretrained approach (recommended):\n",
        "model = models.inception_v3(pretrained=True, aux_logits=True)\n",
        "\n",
        "# Replace final FC for 10 classes (CIFAR-10)\n",
        "num_features = model.fc.in_features\n",
        "model.fc = nn.Linear(num_features, 10)\n",
        "\n",
        "# Replace AuxLogits FC if aux_logits=True\n",
        "if model.aux_logits:\n",
        "    num_aux_features = model.AuxLogits.fc.in_features\n",
        "    model.AuxLogits.fc = nn.Linear(num_aux_features, 10)\n",
        "\n",
        "device = torch.device('cuda' if torch.cuda.is_available() else 'cpu')\n",
        "model.to(device)"
      ],
      "metadata": {
        "colab": {
          "base_uri": "https://localhost:8080/"
        },
        "id": "jdDhXYtP06lb",
        "outputId": "baa01067-8ba7-495f-ce52-8aad7b027c3b"
      },
      "execution_count": 26,
      "outputs": [
        {
          "output_type": "stream",
          "name": "stderr",
          "text": [
            "/usr/local/lib/python3.11/dist-packages/torchvision/models/_utils.py:208: UserWarning: The parameter 'pretrained' is deprecated since 0.13 and may be removed in the future, please use 'weights' instead.\n",
            "  warnings.warn(\n",
            "/usr/local/lib/python3.11/dist-packages/torchvision/models/_utils.py:223: UserWarning: Arguments other than a weight enum or `None` for 'weights' are deprecated since 0.13 and may be removed in the future. The current behavior is equivalent to passing `weights=Inception_V3_Weights.IMAGENET1K_V1`. You can also use `weights=Inception_V3_Weights.DEFAULT` to get the most up-to-date weights.\n",
            "  warnings.warn(msg)\n",
            "Downloading: \"https://download.pytorch.org/models/inception_v3_google-0cc3c7bd.pth\" to /root/.cache/torch/hub/checkpoints/inception_v3_google-0cc3c7bd.pth\n",
            "100%|██████████| 104M/104M [00:00<00:00, 109MB/s] \n"
          ]
        },
        {
          "output_type": "execute_result",
          "data": {
            "text/plain": [
              "Inception3(\n",
              "  (Conv2d_1a_3x3): BasicConv2d(\n",
              "    (conv): Conv2d(3, 32, kernel_size=(3, 3), stride=(2, 2), bias=False)\n",
              "    (bn): BatchNorm2d(32, eps=0.001, momentum=0.1, affine=True, track_running_stats=True)\n",
              "  )\n",
              "  (Conv2d_2a_3x3): BasicConv2d(\n",
              "    (conv): Conv2d(32, 32, kernel_size=(3, 3), stride=(1, 1), bias=False)\n",
              "    (bn): BatchNorm2d(32, eps=0.001, momentum=0.1, affine=True, track_running_stats=True)\n",
              "  )\n",
              "  (Conv2d_2b_3x3): BasicConv2d(\n",
              "    (conv): Conv2d(32, 64, kernel_size=(3, 3), stride=(1, 1), padding=(1, 1), bias=False)\n",
              "    (bn): BatchNorm2d(64, eps=0.001, momentum=0.1, affine=True, track_running_stats=True)\n",
              "  )\n",
              "  (maxpool1): MaxPool2d(kernel_size=3, stride=2, padding=0, dilation=1, ceil_mode=False)\n",
              "  (Conv2d_3b_1x1): BasicConv2d(\n",
              "    (conv): Conv2d(64, 80, kernel_size=(1, 1), stride=(1, 1), bias=False)\n",
              "    (bn): BatchNorm2d(80, eps=0.001, momentum=0.1, affine=True, track_running_stats=True)\n",
              "  )\n",
              "  (Conv2d_4a_3x3): BasicConv2d(\n",
              "    (conv): Conv2d(80, 192, kernel_size=(3, 3), stride=(1, 1), bias=False)\n",
              "    (bn): BatchNorm2d(192, eps=0.001, momentum=0.1, affine=True, track_running_stats=True)\n",
              "  )\n",
              "  (maxpool2): MaxPool2d(kernel_size=3, stride=2, padding=0, dilation=1, ceil_mode=False)\n",
              "  (Mixed_5b): InceptionA(\n",
              "    (branch1x1): BasicConv2d(\n",
              "      (conv): Conv2d(192, 64, kernel_size=(1, 1), stride=(1, 1), bias=False)\n",
              "      (bn): BatchNorm2d(64, eps=0.001, momentum=0.1, affine=True, track_running_stats=True)\n",
              "    )\n",
              "    (branch5x5_1): BasicConv2d(\n",
              "      (conv): Conv2d(192, 48, kernel_size=(1, 1), stride=(1, 1), bias=False)\n",
              "      (bn): BatchNorm2d(48, eps=0.001, momentum=0.1, affine=True, track_running_stats=True)\n",
              "    )\n",
              "    (branch5x5_2): BasicConv2d(\n",
              "      (conv): Conv2d(48, 64, kernel_size=(5, 5), stride=(1, 1), padding=(2, 2), bias=False)\n",
              "      (bn): BatchNorm2d(64, eps=0.001, momentum=0.1, affine=True, track_running_stats=True)\n",
              "    )\n",
              "    (branch3x3dbl_1): BasicConv2d(\n",
              "      (conv): Conv2d(192, 64, kernel_size=(1, 1), stride=(1, 1), bias=False)\n",
              "      (bn): BatchNorm2d(64, eps=0.001, momentum=0.1, affine=True, track_running_stats=True)\n",
              "    )\n",
              "    (branch3x3dbl_2): BasicConv2d(\n",
              "      (conv): Conv2d(64, 96, kernel_size=(3, 3), stride=(1, 1), padding=(1, 1), bias=False)\n",
              "      (bn): BatchNorm2d(96, eps=0.001, momentum=0.1, affine=True, track_running_stats=True)\n",
              "    )\n",
              "    (branch3x3dbl_3): BasicConv2d(\n",
              "      (conv): Conv2d(96, 96, kernel_size=(3, 3), stride=(1, 1), padding=(1, 1), bias=False)\n",
              "      (bn): BatchNorm2d(96, eps=0.001, momentum=0.1, affine=True, track_running_stats=True)\n",
              "    )\n",
              "    (branch_pool): BasicConv2d(\n",
              "      (conv): Conv2d(192, 32, kernel_size=(1, 1), stride=(1, 1), bias=False)\n",
              "      (bn): BatchNorm2d(32, eps=0.001, momentum=0.1, affine=True, track_running_stats=True)\n",
              "    )\n",
              "  )\n",
              "  (Mixed_5c): InceptionA(\n",
              "    (branch1x1): BasicConv2d(\n",
              "      (conv): Conv2d(256, 64, kernel_size=(1, 1), stride=(1, 1), bias=False)\n",
              "      (bn): BatchNorm2d(64, eps=0.001, momentum=0.1, affine=True, track_running_stats=True)\n",
              "    )\n",
              "    (branch5x5_1): BasicConv2d(\n",
              "      (conv): Conv2d(256, 48, kernel_size=(1, 1), stride=(1, 1), bias=False)\n",
              "      (bn): BatchNorm2d(48, eps=0.001, momentum=0.1, affine=True, track_running_stats=True)\n",
              "    )\n",
              "    (branch5x5_2): BasicConv2d(\n",
              "      (conv): Conv2d(48, 64, kernel_size=(5, 5), stride=(1, 1), padding=(2, 2), bias=False)\n",
              "      (bn): BatchNorm2d(64, eps=0.001, momentum=0.1, affine=True, track_running_stats=True)\n",
              "    )\n",
              "    (branch3x3dbl_1): BasicConv2d(\n",
              "      (conv): Conv2d(256, 64, kernel_size=(1, 1), stride=(1, 1), bias=False)\n",
              "      (bn): BatchNorm2d(64, eps=0.001, momentum=0.1, affine=True, track_running_stats=True)\n",
              "    )\n",
              "    (branch3x3dbl_2): BasicConv2d(\n",
              "      (conv): Conv2d(64, 96, kernel_size=(3, 3), stride=(1, 1), padding=(1, 1), bias=False)\n",
              "      (bn): BatchNorm2d(96, eps=0.001, momentum=0.1, affine=True, track_running_stats=True)\n",
              "    )\n",
              "    (branch3x3dbl_3): BasicConv2d(\n",
              "      (conv): Conv2d(96, 96, kernel_size=(3, 3), stride=(1, 1), padding=(1, 1), bias=False)\n",
              "      (bn): BatchNorm2d(96, eps=0.001, momentum=0.1, affine=True, track_running_stats=True)\n",
              "    )\n",
              "    (branch_pool): BasicConv2d(\n",
              "      (conv): Conv2d(256, 64, kernel_size=(1, 1), stride=(1, 1), bias=False)\n",
              "      (bn): BatchNorm2d(64, eps=0.001, momentum=0.1, affine=True, track_running_stats=True)\n",
              "    )\n",
              "  )\n",
              "  (Mixed_5d): InceptionA(\n",
              "    (branch1x1): BasicConv2d(\n",
              "      (conv): Conv2d(288, 64, kernel_size=(1, 1), stride=(1, 1), bias=False)\n",
              "      (bn): BatchNorm2d(64, eps=0.001, momentum=0.1, affine=True, track_running_stats=True)\n",
              "    )\n",
              "    (branch5x5_1): BasicConv2d(\n",
              "      (conv): Conv2d(288, 48, kernel_size=(1, 1), stride=(1, 1), bias=False)\n",
              "      (bn): BatchNorm2d(48, eps=0.001, momentum=0.1, affine=True, track_running_stats=True)\n",
              "    )\n",
              "    (branch5x5_2): BasicConv2d(\n",
              "      (conv): Conv2d(48, 64, kernel_size=(5, 5), stride=(1, 1), padding=(2, 2), bias=False)\n",
              "      (bn): BatchNorm2d(64, eps=0.001, momentum=0.1, affine=True, track_running_stats=True)\n",
              "    )\n",
              "    (branch3x3dbl_1): BasicConv2d(\n",
              "      (conv): Conv2d(288, 64, kernel_size=(1, 1), stride=(1, 1), bias=False)\n",
              "      (bn): BatchNorm2d(64, eps=0.001, momentum=0.1, affine=True, track_running_stats=True)\n",
              "    )\n",
              "    (branch3x3dbl_2): BasicConv2d(\n",
              "      (conv): Conv2d(64, 96, kernel_size=(3, 3), stride=(1, 1), padding=(1, 1), bias=False)\n",
              "      (bn): BatchNorm2d(96, eps=0.001, momentum=0.1, affine=True, track_running_stats=True)\n",
              "    )\n",
              "    (branch3x3dbl_3): BasicConv2d(\n",
              "      (conv): Conv2d(96, 96, kernel_size=(3, 3), stride=(1, 1), padding=(1, 1), bias=False)\n",
              "      (bn): BatchNorm2d(96, eps=0.001, momentum=0.1, affine=True, track_running_stats=True)\n",
              "    )\n",
              "    (branch_pool): BasicConv2d(\n",
              "      (conv): Conv2d(288, 64, kernel_size=(1, 1), stride=(1, 1), bias=False)\n",
              "      (bn): BatchNorm2d(64, eps=0.001, momentum=0.1, affine=True, track_running_stats=True)\n",
              "    )\n",
              "  )\n",
              "  (Mixed_6a): InceptionB(\n",
              "    (branch3x3): BasicConv2d(\n",
              "      (conv): Conv2d(288, 384, kernel_size=(3, 3), stride=(2, 2), bias=False)\n",
              "      (bn): BatchNorm2d(384, eps=0.001, momentum=0.1, affine=True, track_running_stats=True)\n",
              "    )\n",
              "    (branch3x3dbl_1): BasicConv2d(\n",
              "      (conv): Conv2d(288, 64, kernel_size=(1, 1), stride=(1, 1), bias=False)\n",
              "      (bn): BatchNorm2d(64, eps=0.001, momentum=0.1, affine=True, track_running_stats=True)\n",
              "    )\n",
              "    (branch3x3dbl_2): BasicConv2d(\n",
              "      (conv): Conv2d(64, 96, kernel_size=(3, 3), stride=(1, 1), padding=(1, 1), bias=False)\n",
              "      (bn): BatchNorm2d(96, eps=0.001, momentum=0.1, affine=True, track_running_stats=True)\n",
              "    )\n",
              "    (branch3x3dbl_3): BasicConv2d(\n",
              "      (conv): Conv2d(96, 96, kernel_size=(3, 3), stride=(2, 2), bias=False)\n",
              "      (bn): BatchNorm2d(96, eps=0.001, momentum=0.1, affine=True, track_running_stats=True)\n",
              "    )\n",
              "  )\n",
              "  (Mixed_6b): InceptionC(\n",
              "    (branch1x1): BasicConv2d(\n",
              "      (conv): Conv2d(768, 192, kernel_size=(1, 1), stride=(1, 1), bias=False)\n",
              "      (bn): BatchNorm2d(192, eps=0.001, momentum=0.1, affine=True, track_running_stats=True)\n",
              "    )\n",
              "    (branch7x7_1): BasicConv2d(\n",
              "      (conv): Conv2d(768, 128, kernel_size=(1, 1), stride=(1, 1), bias=False)\n",
              "      (bn): BatchNorm2d(128, eps=0.001, momentum=0.1, affine=True, track_running_stats=True)\n",
              "    )\n",
              "    (branch7x7_2): BasicConv2d(\n",
              "      (conv): Conv2d(128, 128, kernel_size=(1, 7), stride=(1, 1), padding=(0, 3), bias=False)\n",
              "      (bn): BatchNorm2d(128, eps=0.001, momentum=0.1, affine=True, track_running_stats=True)\n",
              "    )\n",
              "    (branch7x7_3): BasicConv2d(\n",
              "      (conv): Conv2d(128, 192, kernel_size=(7, 1), stride=(1, 1), padding=(3, 0), bias=False)\n",
              "      (bn): BatchNorm2d(192, eps=0.001, momentum=0.1, affine=True, track_running_stats=True)\n",
              "    )\n",
              "    (branch7x7dbl_1): BasicConv2d(\n",
              "      (conv): Conv2d(768, 128, kernel_size=(1, 1), stride=(1, 1), bias=False)\n",
              "      (bn): BatchNorm2d(128, eps=0.001, momentum=0.1, affine=True, track_running_stats=True)\n",
              "    )\n",
              "    (branch7x7dbl_2): BasicConv2d(\n",
              "      (conv): Conv2d(128, 128, kernel_size=(7, 1), stride=(1, 1), padding=(3, 0), bias=False)\n",
              "      (bn): BatchNorm2d(128, eps=0.001, momentum=0.1, affine=True, track_running_stats=True)\n",
              "    )\n",
              "    (branch7x7dbl_3): BasicConv2d(\n",
              "      (conv): Conv2d(128, 128, kernel_size=(1, 7), stride=(1, 1), padding=(0, 3), bias=False)\n",
              "      (bn): BatchNorm2d(128, eps=0.001, momentum=0.1, affine=True, track_running_stats=True)\n",
              "    )\n",
              "    (branch7x7dbl_4): BasicConv2d(\n",
              "      (conv): Conv2d(128, 128, kernel_size=(7, 1), stride=(1, 1), padding=(3, 0), bias=False)\n",
              "      (bn): BatchNorm2d(128, eps=0.001, momentum=0.1, affine=True, track_running_stats=True)\n",
              "    )\n",
              "    (branch7x7dbl_5): BasicConv2d(\n",
              "      (conv): Conv2d(128, 192, kernel_size=(1, 7), stride=(1, 1), padding=(0, 3), bias=False)\n",
              "      (bn): BatchNorm2d(192, eps=0.001, momentum=0.1, affine=True, track_running_stats=True)\n",
              "    )\n",
              "    (branch_pool): BasicConv2d(\n",
              "      (conv): Conv2d(768, 192, kernel_size=(1, 1), stride=(1, 1), bias=False)\n",
              "      (bn): BatchNorm2d(192, eps=0.001, momentum=0.1, affine=True, track_running_stats=True)\n",
              "    )\n",
              "  )\n",
              "  (Mixed_6c): InceptionC(\n",
              "    (branch1x1): BasicConv2d(\n",
              "      (conv): Conv2d(768, 192, kernel_size=(1, 1), stride=(1, 1), bias=False)\n",
              "      (bn): BatchNorm2d(192, eps=0.001, momentum=0.1, affine=True, track_running_stats=True)\n",
              "    )\n",
              "    (branch7x7_1): BasicConv2d(\n",
              "      (conv): Conv2d(768, 160, kernel_size=(1, 1), stride=(1, 1), bias=False)\n",
              "      (bn): BatchNorm2d(160, eps=0.001, momentum=0.1, affine=True, track_running_stats=True)\n",
              "    )\n",
              "    (branch7x7_2): BasicConv2d(\n",
              "      (conv): Conv2d(160, 160, kernel_size=(1, 7), stride=(1, 1), padding=(0, 3), bias=False)\n",
              "      (bn): BatchNorm2d(160, eps=0.001, momentum=0.1, affine=True, track_running_stats=True)\n",
              "    )\n",
              "    (branch7x7_3): BasicConv2d(\n",
              "      (conv): Conv2d(160, 192, kernel_size=(7, 1), stride=(1, 1), padding=(3, 0), bias=False)\n",
              "      (bn): BatchNorm2d(192, eps=0.001, momentum=0.1, affine=True, track_running_stats=True)\n",
              "    )\n",
              "    (branch7x7dbl_1): BasicConv2d(\n",
              "      (conv): Conv2d(768, 160, kernel_size=(1, 1), stride=(1, 1), bias=False)\n",
              "      (bn): BatchNorm2d(160, eps=0.001, momentum=0.1, affine=True, track_running_stats=True)\n",
              "    )\n",
              "    (branch7x7dbl_2): BasicConv2d(\n",
              "      (conv): Conv2d(160, 160, kernel_size=(7, 1), stride=(1, 1), padding=(3, 0), bias=False)\n",
              "      (bn): BatchNorm2d(160, eps=0.001, momentum=0.1, affine=True, track_running_stats=True)\n",
              "    )\n",
              "    (branch7x7dbl_3): BasicConv2d(\n",
              "      (conv): Conv2d(160, 160, kernel_size=(1, 7), stride=(1, 1), padding=(0, 3), bias=False)\n",
              "      (bn): BatchNorm2d(160, eps=0.001, momentum=0.1, affine=True, track_running_stats=True)\n",
              "    )\n",
              "    (branch7x7dbl_4): BasicConv2d(\n",
              "      (conv): Conv2d(160, 160, kernel_size=(7, 1), stride=(1, 1), padding=(3, 0), bias=False)\n",
              "      (bn): BatchNorm2d(160, eps=0.001, momentum=0.1, affine=True, track_running_stats=True)\n",
              "    )\n",
              "    (branch7x7dbl_5): BasicConv2d(\n",
              "      (conv): Conv2d(160, 192, kernel_size=(1, 7), stride=(1, 1), padding=(0, 3), bias=False)\n",
              "      (bn): BatchNorm2d(192, eps=0.001, momentum=0.1, affine=True, track_running_stats=True)\n",
              "    )\n",
              "    (branch_pool): BasicConv2d(\n",
              "      (conv): Conv2d(768, 192, kernel_size=(1, 1), stride=(1, 1), bias=False)\n",
              "      (bn): BatchNorm2d(192, eps=0.001, momentum=0.1, affine=True, track_running_stats=True)\n",
              "    )\n",
              "  )\n",
              "  (Mixed_6d): InceptionC(\n",
              "    (branch1x1): BasicConv2d(\n",
              "      (conv): Conv2d(768, 192, kernel_size=(1, 1), stride=(1, 1), bias=False)\n",
              "      (bn): BatchNorm2d(192, eps=0.001, momentum=0.1, affine=True, track_running_stats=True)\n",
              "    )\n",
              "    (branch7x7_1): BasicConv2d(\n",
              "      (conv): Conv2d(768, 160, kernel_size=(1, 1), stride=(1, 1), bias=False)\n",
              "      (bn): BatchNorm2d(160, eps=0.001, momentum=0.1, affine=True, track_running_stats=True)\n",
              "    )\n",
              "    (branch7x7_2): BasicConv2d(\n",
              "      (conv): Conv2d(160, 160, kernel_size=(1, 7), stride=(1, 1), padding=(0, 3), bias=False)\n",
              "      (bn): BatchNorm2d(160, eps=0.001, momentum=0.1, affine=True, track_running_stats=True)\n",
              "    )\n",
              "    (branch7x7_3): BasicConv2d(\n",
              "      (conv): Conv2d(160, 192, kernel_size=(7, 1), stride=(1, 1), padding=(3, 0), bias=False)\n",
              "      (bn): BatchNorm2d(192, eps=0.001, momentum=0.1, affine=True, track_running_stats=True)\n",
              "    )\n",
              "    (branch7x7dbl_1): BasicConv2d(\n",
              "      (conv): Conv2d(768, 160, kernel_size=(1, 1), stride=(1, 1), bias=False)\n",
              "      (bn): BatchNorm2d(160, eps=0.001, momentum=0.1, affine=True, track_running_stats=True)\n",
              "    )\n",
              "    (branch7x7dbl_2): BasicConv2d(\n",
              "      (conv): Conv2d(160, 160, kernel_size=(7, 1), stride=(1, 1), padding=(3, 0), bias=False)\n",
              "      (bn): BatchNorm2d(160, eps=0.001, momentum=0.1, affine=True, track_running_stats=True)\n",
              "    )\n",
              "    (branch7x7dbl_3): BasicConv2d(\n",
              "      (conv): Conv2d(160, 160, kernel_size=(1, 7), stride=(1, 1), padding=(0, 3), bias=False)\n",
              "      (bn): BatchNorm2d(160, eps=0.001, momentum=0.1, affine=True, track_running_stats=True)\n",
              "    )\n",
              "    (branch7x7dbl_4): BasicConv2d(\n",
              "      (conv): Conv2d(160, 160, kernel_size=(7, 1), stride=(1, 1), padding=(3, 0), bias=False)\n",
              "      (bn): BatchNorm2d(160, eps=0.001, momentum=0.1, affine=True, track_running_stats=True)\n",
              "    )\n",
              "    (branch7x7dbl_5): BasicConv2d(\n",
              "      (conv): Conv2d(160, 192, kernel_size=(1, 7), stride=(1, 1), padding=(0, 3), bias=False)\n",
              "      (bn): BatchNorm2d(192, eps=0.001, momentum=0.1, affine=True, track_running_stats=True)\n",
              "    )\n",
              "    (branch_pool): BasicConv2d(\n",
              "      (conv): Conv2d(768, 192, kernel_size=(1, 1), stride=(1, 1), bias=False)\n",
              "      (bn): BatchNorm2d(192, eps=0.001, momentum=0.1, affine=True, track_running_stats=True)\n",
              "    )\n",
              "  )\n",
              "  (Mixed_6e): InceptionC(\n",
              "    (branch1x1): BasicConv2d(\n",
              "      (conv): Conv2d(768, 192, kernel_size=(1, 1), stride=(1, 1), bias=False)\n",
              "      (bn): BatchNorm2d(192, eps=0.001, momentum=0.1, affine=True, track_running_stats=True)\n",
              "    )\n",
              "    (branch7x7_1): BasicConv2d(\n",
              "      (conv): Conv2d(768, 192, kernel_size=(1, 1), stride=(1, 1), bias=False)\n",
              "      (bn): BatchNorm2d(192, eps=0.001, momentum=0.1, affine=True, track_running_stats=True)\n",
              "    )\n",
              "    (branch7x7_2): BasicConv2d(\n",
              "      (conv): Conv2d(192, 192, kernel_size=(1, 7), stride=(1, 1), padding=(0, 3), bias=False)\n",
              "      (bn): BatchNorm2d(192, eps=0.001, momentum=0.1, affine=True, track_running_stats=True)\n",
              "    )\n",
              "    (branch7x7_3): BasicConv2d(\n",
              "      (conv): Conv2d(192, 192, kernel_size=(7, 1), stride=(1, 1), padding=(3, 0), bias=False)\n",
              "      (bn): BatchNorm2d(192, eps=0.001, momentum=0.1, affine=True, track_running_stats=True)\n",
              "    )\n",
              "    (branch7x7dbl_1): BasicConv2d(\n",
              "      (conv): Conv2d(768, 192, kernel_size=(1, 1), stride=(1, 1), bias=False)\n",
              "      (bn): BatchNorm2d(192, eps=0.001, momentum=0.1, affine=True, track_running_stats=True)\n",
              "    )\n",
              "    (branch7x7dbl_2): BasicConv2d(\n",
              "      (conv): Conv2d(192, 192, kernel_size=(7, 1), stride=(1, 1), padding=(3, 0), bias=False)\n",
              "      (bn): BatchNorm2d(192, eps=0.001, momentum=0.1, affine=True, track_running_stats=True)\n",
              "    )\n",
              "    (branch7x7dbl_3): BasicConv2d(\n",
              "      (conv): Conv2d(192, 192, kernel_size=(1, 7), stride=(1, 1), padding=(0, 3), bias=False)\n",
              "      (bn): BatchNorm2d(192, eps=0.001, momentum=0.1, affine=True, track_running_stats=True)\n",
              "    )\n",
              "    (branch7x7dbl_4): BasicConv2d(\n",
              "      (conv): Conv2d(192, 192, kernel_size=(7, 1), stride=(1, 1), padding=(3, 0), bias=False)\n",
              "      (bn): BatchNorm2d(192, eps=0.001, momentum=0.1, affine=True, track_running_stats=True)\n",
              "    )\n",
              "    (branch7x7dbl_5): BasicConv2d(\n",
              "      (conv): Conv2d(192, 192, kernel_size=(1, 7), stride=(1, 1), padding=(0, 3), bias=False)\n",
              "      (bn): BatchNorm2d(192, eps=0.001, momentum=0.1, affine=True, track_running_stats=True)\n",
              "    )\n",
              "    (branch_pool): BasicConv2d(\n",
              "      (conv): Conv2d(768, 192, kernel_size=(1, 1), stride=(1, 1), bias=False)\n",
              "      (bn): BatchNorm2d(192, eps=0.001, momentum=0.1, affine=True, track_running_stats=True)\n",
              "    )\n",
              "  )\n",
              "  (AuxLogits): InceptionAux(\n",
              "    (conv0): BasicConv2d(\n",
              "      (conv): Conv2d(768, 128, kernel_size=(1, 1), stride=(1, 1), bias=False)\n",
              "      (bn): BatchNorm2d(128, eps=0.001, momentum=0.1, affine=True, track_running_stats=True)\n",
              "    )\n",
              "    (conv1): BasicConv2d(\n",
              "      (conv): Conv2d(128, 768, kernel_size=(5, 5), stride=(1, 1), bias=False)\n",
              "      (bn): BatchNorm2d(768, eps=0.001, momentum=0.1, affine=True, track_running_stats=True)\n",
              "    )\n",
              "    (fc): Linear(in_features=768, out_features=10, bias=True)\n",
              "  )\n",
              "  (Mixed_7a): InceptionD(\n",
              "    (branch3x3_1): BasicConv2d(\n",
              "      (conv): Conv2d(768, 192, kernel_size=(1, 1), stride=(1, 1), bias=False)\n",
              "      (bn): BatchNorm2d(192, eps=0.001, momentum=0.1, affine=True, track_running_stats=True)\n",
              "    )\n",
              "    (branch3x3_2): BasicConv2d(\n",
              "      (conv): Conv2d(192, 320, kernel_size=(3, 3), stride=(2, 2), bias=False)\n",
              "      (bn): BatchNorm2d(320, eps=0.001, momentum=0.1, affine=True, track_running_stats=True)\n",
              "    )\n",
              "    (branch7x7x3_1): BasicConv2d(\n",
              "      (conv): Conv2d(768, 192, kernel_size=(1, 1), stride=(1, 1), bias=False)\n",
              "      (bn): BatchNorm2d(192, eps=0.001, momentum=0.1, affine=True, track_running_stats=True)\n",
              "    )\n",
              "    (branch7x7x3_2): BasicConv2d(\n",
              "      (conv): Conv2d(192, 192, kernel_size=(1, 7), stride=(1, 1), padding=(0, 3), bias=False)\n",
              "      (bn): BatchNorm2d(192, eps=0.001, momentum=0.1, affine=True, track_running_stats=True)\n",
              "    )\n",
              "    (branch7x7x3_3): BasicConv2d(\n",
              "      (conv): Conv2d(192, 192, kernel_size=(7, 1), stride=(1, 1), padding=(3, 0), bias=False)\n",
              "      (bn): BatchNorm2d(192, eps=0.001, momentum=0.1, affine=True, track_running_stats=True)\n",
              "    )\n",
              "    (branch7x7x3_4): BasicConv2d(\n",
              "      (conv): Conv2d(192, 192, kernel_size=(3, 3), stride=(2, 2), bias=False)\n",
              "      (bn): BatchNorm2d(192, eps=0.001, momentum=0.1, affine=True, track_running_stats=True)\n",
              "    )\n",
              "  )\n",
              "  (Mixed_7b): InceptionE(\n",
              "    (branch1x1): BasicConv2d(\n",
              "      (conv): Conv2d(1280, 320, kernel_size=(1, 1), stride=(1, 1), bias=False)\n",
              "      (bn): BatchNorm2d(320, eps=0.001, momentum=0.1, affine=True, track_running_stats=True)\n",
              "    )\n",
              "    (branch3x3_1): BasicConv2d(\n",
              "      (conv): Conv2d(1280, 384, kernel_size=(1, 1), stride=(1, 1), bias=False)\n",
              "      (bn): BatchNorm2d(384, eps=0.001, momentum=0.1, affine=True, track_running_stats=True)\n",
              "    )\n",
              "    (branch3x3_2a): BasicConv2d(\n",
              "      (conv): Conv2d(384, 384, kernel_size=(1, 3), stride=(1, 1), padding=(0, 1), bias=False)\n",
              "      (bn): BatchNorm2d(384, eps=0.001, momentum=0.1, affine=True, track_running_stats=True)\n",
              "    )\n",
              "    (branch3x3_2b): BasicConv2d(\n",
              "      (conv): Conv2d(384, 384, kernel_size=(3, 1), stride=(1, 1), padding=(1, 0), bias=False)\n",
              "      (bn): BatchNorm2d(384, eps=0.001, momentum=0.1, affine=True, track_running_stats=True)\n",
              "    )\n",
              "    (branch3x3dbl_1): BasicConv2d(\n",
              "      (conv): Conv2d(1280, 448, kernel_size=(1, 1), stride=(1, 1), bias=False)\n",
              "      (bn): BatchNorm2d(448, eps=0.001, momentum=0.1, affine=True, track_running_stats=True)\n",
              "    )\n",
              "    (branch3x3dbl_2): BasicConv2d(\n",
              "      (conv): Conv2d(448, 384, kernel_size=(3, 3), stride=(1, 1), padding=(1, 1), bias=False)\n",
              "      (bn): BatchNorm2d(384, eps=0.001, momentum=0.1, affine=True, track_running_stats=True)\n",
              "    )\n",
              "    (branch3x3dbl_3a): BasicConv2d(\n",
              "      (conv): Conv2d(384, 384, kernel_size=(1, 3), stride=(1, 1), padding=(0, 1), bias=False)\n",
              "      (bn): BatchNorm2d(384, eps=0.001, momentum=0.1, affine=True, track_running_stats=True)\n",
              "    )\n",
              "    (branch3x3dbl_3b): BasicConv2d(\n",
              "      (conv): Conv2d(384, 384, kernel_size=(3, 1), stride=(1, 1), padding=(1, 0), bias=False)\n",
              "      (bn): BatchNorm2d(384, eps=0.001, momentum=0.1, affine=True, track_running_stats=True)\n",
              "    )\n",
              "    (branch_pool): BasicConv2d(\n",
              "      (conv): Conv2d(1280, 192, kernel_size=(1, 1), stride=(1, 1), bias=False)\n",
              "      (bn): BatchNorm2d(192, eps=0.001, momentum=0.1, affine=True, track_running_stats=True)\n",
              "    )\n",
              "  )\n",
              "  (Mixed_7c): InceptionE(\n",
              "    (branch1x1): BasicConv2d(\n",
              "      (conv): Conv2d(2048, 320, kernel_size=(1, 1), stride=(1, 1), bias=False)\n",
              "      (bn): BatchNorm2d(320, eps=0.001, momentum=0.1, affine=True, track_running_stats=True)\n",
              "    )\n",
              "    (branch3x3_1): BasicConv2d(\n",
              "      (conv): Conv2d(2048, 384, kernel_size=(1, 1), stride=(1, 1), bias=False)\n",
              "      (bn): BatchNorm2d(384, eps=0.001, momentum=0.1, affine=True, track_running_stats=True)\n",
              "    )\n",
              "    (branch3x3_2a): BasicConv2d(\n",
              "      (conv): Conv2d(384, 384, kernel_size=(1, 3), stride=(1, 1), padding=(0, 1), bias=False)\n",
              "      (bn): BatchNorm2d(384, eps=0.001, momentum=0.1, affine=True, track_running_stats=True)\n",
              "    )\n",
              "    (branch3x3_2b): BasicConv2d(\n",
              "      (conv): Conv2d(384, 384, kernel_size=(3, 1), stride=(1, 1), padding=(1, 0), bias=False)\n",
              "      (bn): BatchNorm2d(384, eps=0.001, momentum=0.1, affine=True, track_running_stats=True)\n",
              "    )\n",
              "    (branch3x3dbl_1): BasicConv2d(\n",
              "      (conv): Conv2d(2048, 448, kernel_size=(1, 1), stride=(1, 1), bias=False)\n",
              "      (bn): BatchNorm2d(448, eps=0.001, momentum=0.1, affine=True, track_running_stats=True)\n",
              "    )\n",
              "    (branch3x3dbl_2): BasicConv2d(\n",
              "      (conv): Conv2d(448, 384, kernel_size=(3, 3), stride=(1, 1), padding=(1, 1), bias=False)\n",
              "      (bn): BatchNorm2d(384, eps=0.001, momentum=0.1, affine=True, track_running_stats=True)\n",
              "    )\n",
              "    (branch3x3dbl_3a): BasicConv2d(\n",
              "      (conv): Conv2d(384, 384, kernel_size=(1, 3), stride=(1, 1), padding=(0, 1), bias=False)\n",
              "      (bn): BatchNorm2d(384, eps=0.001, momentum=0.1, affine=True, track_running_stats=True)\n",
              "    )\n",
              "    (branch3x3dbl_3b): BasicConv2d(\n",
              "      (conv): Conv2d(384, 384, kernel_size=(3, 1), stride=(1, 1), padding=(1, 0), bias=False)\n",
              "      (bn): BatchNorm2d(384, eps=0.001, momentum=0.1, affine=True, track_running_stats=True)\n",
              "    )\n",
              "    (branch_pool): BasicConv2d(\n",
              "      (conv): Conv2d(2048, 192, kernel_size=(1, 1), stride=(1, 1), bias=False)\n",
              "      (bn): BatchNorm2d(192, eps=0.001, momentum=0.1, affine=True, track_running_stats=True)\n",
              "    )\n",
              "  )\n",
              "  (avgpool): AdaptiveAvgPool2d(output_size=(1, 1))\n",
              "  (dropout): Dropout(p=0.5, inplace=False)\n",
              "  (fc): Linear(in_features=2048, out_features=10, bias=True)\n",
              ")"
            ]
          },
          "metadata": {},
          "execution_count": 26
        }
      ]
    },
    {
      "cell_type": "markdown",
      "source": [
        "**3) Define Loss & Optimizer**"
      ],
      "metadata": {
        "id": "44CxI8XP09dj"
      }
    },
    {
      "cell_type": "code",
      "source": [
        "learning_rate = 1e-3\n",
        "weight_decay = 1e-4\n",
        "optimizer = optim.Adam(model.parameters(), lr=learning_rate, weight_decay=weight_decay)\n",
        "criterion = nn.CrossEntropyLoss()\n",
        "\n",
        "# Optional: an LR scheduler can be added\n",
        "# scheduler = optim.lr_scheduler.StepLR(optimizer, step_size=5, gamma=0.1)"
      ],
      "metadata": {
        "id": "ldgwE2Zj1BBL"
      },
      "execution_count": 27,
      "outputs": []
    },
    {
      "cell_type": "markdown",
      "source": [
        "**4) Training Loop**"
      ],
      "metadata": {
        "id": "7NTa9tN-1DIr"
      }
    },
    {
      "cell_type": "code",
      "source": [
        "EPOCHS = 20\n",
        "train_losses, test_losses = [], []\n",
        "train_accs, test_accs = [], []\n",
        "\n",
        "for epoch in range(EPOCHS):\n",
        "    start_time = time.time()\n",
        "    model.train()\n",
        "    running_loss = 0.0\n",
        "    correct = 0\n",
        "    total = 0\n",
        "\n",
        "    for images, labels in train_loader:\n",
        "        images, labels = images.to(device), labels.to(device)\n",
        "\n",
        "        optimizer.zero_grad()\n",
        "        # During training, InceptionV3 returns (logits, aux_logits) if aux_logits=True\n",
        "        outputs, aux_out = model(images)\n",
        "\n",
        "        loss_main = criterion(outputs, labels)\n",
        "        loss_aux = 0\n",
        "        if model.aux_logits:\n",
        "            loss_aux = criterion(aux_out, labels) * 0.4\n",
        "        loss = loss_main + loss_aux\n",
        "\n",
        "        loss.backward()\n",
        "        optimizer.step()\n",
        "\n",
        "        running_loss += loss.item() * images.size(0)\n",
        "        _, predicted = outputs.max(1)\n",
        "        correct += predicted.eq(labels).sum().item()\n",
        "        total += labels.size(0)\n",
        "\n",
        "    train_loss_epoch = running_loss / total\n",
        "    train_acc_epoch = 100.0 * correct / total\n",
        "    train_losses.append(train_loss_epoch)\n",
        "    train_accs.append(train_acc_epoch)\n",
        "\n",
        "    # scheduler.step()  # if using a scheduler\n",
        "\n",
        "    # Validation\n",
        "    model.eval()\n",
        "    val_running_loss = 0.0\n",
        "    val_correct = 0\n",
        "    val_total = 0\n",
        "    with torch.no_grad():\n",
        "        for images, labels in test_loader:\n",
        "            images, labels = images.to(device), labels.to(device)\n",
        "            # In eval mode, inception_v3 returns only the main output\n",
        "            out = model(images)\n",
        "            loss_val = criterion(out, labels)\n",
        "\n",
        "            val_running_loss += loss_val.item() * images.size(0)\n",
        "            _, predicted = out.max(1)\n",
        "            val_correct += predicted.eq(labels).sum().item()\n",
        "            val_total += labels.size(0)\n",
        "\n",
        "    val_loss_epoch = val_running_loss / val_total\n",
        "    val_acc_epoch = 100.0 * val_correct / val_total\n",
        "    test_losses.append(val_loss_epoch)\n",
        "    test_accs.append(val_acc_epoch)\n",
        "\n",
        "    epoch_time = time.time() - start_time\n",
        "    print(f\"Epoch [{epoch+1}/{EPOCHS}] | Time: {epoch_time:.2f}s\\n\"\n",
        "          f\"  Train Loss: {train_loss_epoch:.4f}, Train Acc: {train_acc_epoch:.2f}%\\n\"\n",
        "          f\"  Test  Loss: {val_loss_epoch:.4f}, Test  Acc: {val_acc_epoch:.2f}%\\n\")"
      ],
      "metadata": {
        "colab": {
          "base_uri": "https://localhost:8080/"
        },
        "id": "5iulq3vg1GWz",
        "outputId": "bb68b71f-0099-4d4e-df64-652a154f5a88"
      },
      "execution_count": 28,
      "outputs": [
        {
          "output_type": "stream",
          "name": "stdout",
          "text": [
            "Epoch [1/20] | Time: 335.28s\n",
            "  Train Loss: 1.9515, Train Acc: 51.08%\n",
            "  Test  Loss: 1.2618, Test  Acc: 60.07%\n",
            "\n",
            "Epoch [2/20] | Time: 334.91s\n",
            "  Train Loss: 1.5231, Train Acc: 61.35%\n",
            "  Test  Loss: 0.8638, Test  Acc: 70.67%\n",
            "\n",
            "Epoch [3/20] | Time: 334.30s\n",
            "  Train Loss: 1.3786, Train Acc: 65.42%\n",
            "  Test  Loss: 0.7559, Test  Acc: 74.77%\n",
            "\n",
            "Epoch [4/20] | Time: 334.59s\n",
            "  Train Loss: 1.2635, Train Acc: 68.78%\n",
            "  Test  Loss: 0.6846, Test  Acc: 78.01%\n",
            "\n",
            "Epoch [5/20] | Time: 333.39s\n",
            "  Train Loss: 1.1897, Train Acc: 70.34%\n",
            "  Test  Loss: 0.6957, Test  Acc: 76.51%\n",
            "\n",
            "Epoch [6/20] | Time: 333.91s\n",
            "  Train Loss: 1.1477, Train Acc: 71.42%\n",
            "  Test  Loss: 0.5199, Test  Acc: 82.61%\n",
            "\n",
            "Epoch [7/20] | Time: 333.56s\n",
            "  Train Loss: 1.1065, Train Acc: 72.72%\n",
            "  Test  Loss: 0.6074, Test  Acc: 80.23%\n",
            "\n",
            "Epoch [8/20] | Time: 333.37s\n",
            "  Train Loss: 1.0830, Train Acc: 73.15%\n",
            "  Test  Loss: 0.4904, Test  Acc: 83.34%\n",
            "\n",
            "Epoch [9/20] | Time: 333.32s\n",
            "  Train Loss: 1.0530, Train Acc: 74.21%\n",
            "  Test  Loss: 0.5332, Test  Acc: 81.79%\n",
            "\n",
            "Epoch [10/20] | Time: 332.85s\n",
            "  Train Loss: 1.0322, Train Acc: 74.58%\n",
            "  Test  Loss: 0.4433, Test  Acc: 84.91%\n",
            "\n",
            "Epoch [11/20] | Time: 332.57s\n",
            "  Train Loss: 1.0011, Train Acc: 75.31%\n",
            "  Test  Loss: 0.4776, Test  Acc: 83.98%\n",
            "\n",
            "Epoch [12/20] | Time: 331.52s\n",
            "  Train Loss: 0.9743, Train Acc: 76.22%\n",
            "  Test  Loss: 0.5421, Test  Acc: 82.01%\n",
            "\n",
            "Epoch [13/20] | Time: 330.32s\n",
            "  Train Loss: 0.9775, Train Acc: 76.08%\n",
            "  Test  Loss: 0.4082, Test  Acc: 86.42%\n",
            "\n",
            "Epoch [14/20] | Time: 330.68s\n",
            "  Train Loss: 0.9330, Train Acc: 76.83%\n",
            "  Test  Loss: 0.4677, Test  Acc: 84.30%\n",
            "\n",
            "Epoch [15/20] | Time: 329.84s\n",
            "  Train Loss: 0.9363, Train Acc: 77.06%\n",
            "  Test  Loss: 0.4326, Test  Acc: 85.66%\n",
            "\n",
            "Epoch [16/20] | Time: 330.09s\n",
            "  Train Loss: 0.9146, Train Acc: 77.33%\n",
            "  Test  Loss: 0.3968, Test  Acc: 86.52%\n",
            "\n",
            "Epoch [17/20] | Time: 329.62s\n",
            "  Train Loss: 0.9057, Train Acc: 77.59%\n",
            "  Test  Loss: 0.3773, Test  Acc: 86.96%\n",
            "\n",
            "Epoch [18/20] | Time: 331.04s\n",
            "  Train Loss: 0.9086, Train Acc: 77.62%\n",
            "  Test  Loss: 0.4709, Test  Acc: 84.17%\n",
            "\n",
            "Epoch [19/20] | Time: 330.02s\n",
            "  Train Loss: 0.8844, Train Acc: 78.25%\n",
            "  Test  Loss: 0.4301, Test  Acc: 85.85%\n",
            "\n",
            "Epoch [20/20] | Time: 328.42s\n",
            "  Train Loss: 0.8601, Train Acc: 78.91%\n",
            "  Test  Loss: 0.4394, Test  Acc: 85.27%\n",
            "\n"
          ]
        }
      ]
    },
    {
      "cell_type": "markdown",
      "source": [
        "**5) Final Evaluation**"
      ],
      "metadata": {
        "id": "fKieiRx31J1j"
      }
    },
    {
      "cell_type": "code",
      "source": [
        "model.eval()\n",
        "all_preds, all_labels = [], []\n",
        "with torch.no_grad():\n",
        "    for images, labels in test_loader:\n",
        "        images = images.to(device)\n",
        "        labels = labels.to(device)\n",
        "        outputs = model(images)\n",
        "        _, predicted = outputs.max(1)\n",
        "        all_preds.extend(predicted.cpu().numpy())\n",
        "        all_labels.extend(labels.cpu().numpy())\n",
        "\n",
        "cm = confusion_matrix(all_labels, all_preds)\n",
        "f1 = f1_score(all_labels, all_preds, average='weighted')\n",
        "accuracy = 100.0 * cm.trace() / cm.sum()\n",
        "\n",
        "print(f\"Final Test Accuracy: {accuracy:.2f}%\")\n",
        "print(f\"F1 Score (weighted): {f1:.4f}\")\n",
        "print(\"Confusion Matrix:\\n\", cm)"
      ],
      "metadata": {
        "colab": {
          "base_uri": "https://localhost:8080/"
        },
        "id": "AI_9DdoJ1O78",
        "outputId": "0de06778-90a7-4857-8fdc-9c33aa5c6d1f"
      },
      "execution_count": 29,
      "outputs": [
        {
          "output_type": "stream",
          "name": "stdout",
          "text": [
            "Final Test Accuracy: 85.27%\n",
            "F1 Score (weighted): 0.8532\n",
            "Confusion Matrix:\n",
            " [[864   9  24  15   2   2  23   4  22  35]\n",
            " [  2 787   1   2   0   0  20   1   2 185]\n",
            " [ 32   1 758  44  26  23  93  15   4   4]\n",
            " [ 10   2  10 805  19  82  53  13   2   4]\n",
            " [  4   0  14  38 791  10 110  33   0   0]\n",
            " [  2   0  10 118  22 776  37  32   0   3]\n",
            " [  4   0   2  21   0   2 970   0   0   1]\n",
            " [  8   0   2  20  15  16  18 914   0   7]\n",
            " [ 37  10   8   6   0   0  25   0 897  17]\n",
            " [  5   8   3   2   0   0   7   2   8 965]]\n"
          ]
        }
      ]
    },
    {
      "cell_type": "markdown",
      "source": [
        "**6) Plot Curves**"
      ],
      "metadata": {
        "id": "wBWnuegO1QiD"
      }
    },
    {
      "cell_type": "code",
      "execution_count": 30,
      "metadata": {
        "id": "i37FPojTFNrj",
        "colab": {
          "base_uri": "https://localhost:8080/",
          "height": 507
        },
        "outputId": "7eb7e8a9-0a26-4ca7-af3d-a7deeceeb38b"
      },
      "outputs": [
        {
          "output_type": "display_data",
          "data": {
            "text/plain": [
              "<Figure size 1200x500 with 2 Axes>"
            ],
            "image/png": "[encoded data removed]"
          },
          "metadata": {}
        }
      ],
      "source": [
        "plt.figure(figsize=(12,5))\n",
        "plt.subplot(1,2,1)\n",
        "plt.plot(range(EPOCHS), train_losses, label='Train Loss')\n",
        "plt.plot(range(EPOCHS), test_losses,  label='Test Loss')\n",
        "plt.xlabel('Epoch'); plt.ylabel('Loss')\n",
        "plt.title('Loss Curves'); plt.legend()\n",
        "\n",
        "plt.subplot(1,2,2)\n",
        "plt.plot(range(EPOCHS), train_accs, label='Train Acc')\n",
        "plt.plot(range(EPOCHS), test_accs,  label='Test Acc')\n",
        "plt.xlabel('Epoch'); plt.ylabel('Accuracy (%)')\n",
        "plt.title('Accuracy Curves'); plt.legend()\n",
        "\n",
        "plt.tight_layout()\n",
        "plt.show()"
      ]
    }
  ],
  "metadata": {
    "accelerator": "GPU",
    "colab": {
      "gpuType": "T4",
      "provenance": [],
      "collapsed_sections": [
        "SoqaMyaVwDut",
        "xPOH9CVLy9l0",
        "HJCF6TY00S6R"
      ],
      "authorship_tag": "ABX9TyM8aGBJTbLxvRP/sOzoOPaz",
      "include_colab_link": true
    },
    "kernelspec": {
      "display_name": "Python 3",
      "name": "python3"
    },
    "language_info": {
      "name": "python"
    }
  },
  "nbformat": 4,
  "nbformat_minor": 0
}